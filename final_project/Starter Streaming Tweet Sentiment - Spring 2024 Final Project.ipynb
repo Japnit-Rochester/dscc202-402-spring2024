{
 "cells": [
  {
   "cell_type": "markdown",
   "metadata": {
    "application/vnd.databricks.v1+cell": {
     "cellMetadata": {
      "byteLimit": 2048000,
      "rowLimit": 10000
     },
     "inputWidgets": {},
     "nuid": "fc749083-2211-485c-943f-640e198b2c70",
     "showTitle": false,
     "title": ""
    }
   },
   "source": [
    "## DSCC202-402 Data Science at Scale Final Project\n",
    "### Tracking Tweet sentiment at scale using a pretrained transformer (classifier)\n",
    "<p>Consider the following illustration of the end to end system that you will be building.  Each student should do their own work.  The project will demonstrate your understanding of Spark Streaming, the medalion data architecture using Delta Lake, Spark Inference at Scale using an MLflow packaged model as well as Exploritory Data Analysis and System Tracking and Monitoring.</p>\n",
    "<br><br>\n",
    "<img src=\"https://data-science-at-scale.s3.amazonaws.com/images/pipeline.drawio.png\">\n",
    "\n",
    "<p>\n",
    "You will be pulling an updated copy of the course GitHub repositiory: <a href=\"https://github.com/lpalum/dscc202-402-spring2024\">The Repo</a>.  If you are unclear on how to pull an updated copy using the GitHub command line, the following <a href=\"https://techwritingmatters.com/how-to-update-your-forked-repository-on-github\">document</a> is helpful.  Be sure to add the professors and TAs as collaborators on your project. \n",
    "\n",
    "- lpalum@gmail.com GitHub ID: lpalum\n",
    "- ajay.anand@rochester.edu GitHub ID: ajayan12\n",
    "- divyamunot1999@gmail.com GitHub ID: divyamunot\n",
    "- ylong6@u.Rochester.edu GitHub ID: NinaLong2077\n",
    "\n",
    "Once you have updates your fork of the repository you should see the following template project that is resident in the final_project directory.\n",
    "</p>\n",
    "\n",
    "<img src=\"https://data-science-at-scale.s3.amazonaws.com/images/notebooks.drawio.png\">\n",
    "\n",
    "<p>\n",
    "You can then pull your project into the Databrick Workspace using the <a href=\"https://www.databricks.training/step-by-step/importing-courseware-from-github/index.html\">Repos</a> feature.\n",
    "Each student is expected to submit the URL of their project on GitHub with their code checked in on the main/master branch.  This illustration highlights the branching scheme that you may use to work on your code in steps and then merge your submission into your master branch before submitting.\n",
    "</p>\n",
    "<img src=\"https://data-science-at-scale.s3.amazonaws.com/images/github.drawio.png\">\n",
    "<p>\n",
    "Work your way through this notebook which will give you the steps required to submit a complete and compliant project.  The following illustration and associated data dictionary specifies the transformations and data that you are to generate for each step in the medallion pipeline.\n",
    "</p>\n",
    "<br><br>\n",
    "<img src=\"https://data-science-at-scale.s3.amazonaws.com/images/dataframes.drawio.png\">\n",
    "\n",
    "#### Bronze Data - raw ingest\n",
    "- date - string in the source json\n",
    "- user - string in the source json\n",
    "- text - tweet string in the source json\n",
    "- sentiment - the given sentiment of the text as determined by an unknown model that is provided in the source json\n",
    "- source_file - the path of the source json file the this row of data was read from\n",
    "- processing_time - a timestamp of when you read this row from the source json\n",
    "\n",
    "#### Silver Data - Bronze Preprocessing\n",
    "- timestamp - convert date string in the bronze data to a timestamp\n",
    "- mention - every @username mentioned in the text string in the bronze data gets a row in this silver data table.\n",
    "- cleaned_text - the bronze text data with the mentions (@username) removed.\n",
    "- sentiment - the given sentiment that was associated with the text in the bronze table.\n",
    "\n",
    "#### Gold Data - Silver Table Inference\n",
    "- timestamp - the timestamp from the silver data table rows\n",
    "- mention - the mention from the silver data table rows\n",
    "- cleaned_text - the cleaned_text from the silver data table rows\n",
    "- sentiment - the given sentiment from the silver data table rows\n",
    "- predicted_score - score out of 100 from the Hugging Face Sentiment Transformer\n",
    "- predicted_sentiment - string representation of the sentiment\n",
    "- sentiment_id - 0 for negative and 1 for postive associated with the given sentiment\n",
    "- predicted_sentiment_id - 0 for negative and 1 for positive assocaited with the Hugging Face Sentiment Transformer\n",
    "\n",
    "#### Application Data - Gold Table Aggregation\n",
    "- min_timestamp - the oldest timestamp on a given mention (@username)\n",
    "- max_timestamp - the newest timestamp on a given mention (@username)\n",
    "- mention - the user (@username) that this row pertains to.\n",
    "- negative - total negative tweets directed at this mention (@username)\n",
    "- neutral - total neutral tweets directed at this mention (@username)\n",
    "- positive - total positive tweets directed at this mention (@username)\n",
    "\n",
    "When you are designing your approach, one of the main decisions that you will need to make is how you are going to orchestrate the streaming data processing in your pipeline.  There are several valid approaches.  First, you may choose to start the bronze_stream and let it complete (read and append all of the source data) before preceeding and starting up the silver_stream.  This approach has latency associated with it but it will allow your code to proceed in a linear fashion and process all the data by the end of your notebook execution.  Another potential approach is to start all the streams and have a \"watch\" method to determine when the pipeline has processed sufficient or all of the source data before stopping and displaying results.  Both of these approaches are valid and have different implications on how you will trigger your steams and how you will gate the execution of your pipeline.  Think through how you want to proceed and ask questions if you need guidance. The following references may be helpful:\n",
    "- [Spark Structured Streaming Programming Guide](https://spark.apache.org/docs/latest/structured-streaming-programming-guide.html)\n",
    "- [Databricks Autoloader - Cloudfiles](https://docs.databricks.com/en/ingestion/auto-loader/index.html)\n",
    "\n",
    "### Be sure that your project runs end to end when *Run all* is executued on this notebook! (15 Points out of 60)"
   ]
  },
  {
   "cell_type": "code",
   "execution_count": 0,
   "metadata": {
    "application/vnd.databricks.v1+cell": {
     "cellMetadata": {
      "byteLimit": 2048000,
      "rowLimit": 10000
     },
     "inputWidgets": {},
     "nuid": "4ca00610-32d6-459d-aa26-dbfa98da7c8d",
     "showTitle": false,
     "title": ""
    }
   },
   "outputs": [],
   "source": [
    "! pip install pyspark"
   ]
  },
  {
   "cell_type": "code",
   "execution_count": 0,
   "metadata": {
    "application/vnd.databricks.v1+cell": {
     "cellMetadata": {
      "byteLimit": 2048000,
      "rowLimit": 10000
     },
     "inputWidgets": {},
     "nuid": "068f25d0-1387-4342-89cf-ce82a8d614ce",
     "showTitle": true,
     "title": "Pull in the Includes & Utiltites"
    }
   },
   "outputs": [],
   "source": [
    "%run ./includes/includes"
   ]
  },
  {
   "cell_type": "code",
   "execution_count": 0,
   "metadata": {
    "application/vnd.databricks.v1+cell": {
     "cellMetadata": {
      "byteLimit": 2048000,
      "rowLimit": 10000
     },
     "inputWidgets": {},
     "nuid": "6512bf1b-50e0-4a4b-84a9-e280a6260b56",
     "showTitle": true,
     "title": "Notebook Control Widgets (maybe helpful)"
    }
   },
   "outputs": [],
   "source": [
    "\"\"\"\n",
    "Adding a widget to the notebook to control the clearing of a previous run.\n",
    "or stopping the active streams using routines defined in the utilities notebook\n",
    "\"\"\"\n",
    "dbutils.widgets.removeAll()\n",
    "\n",
    "dbutils.widgets.dropdown(\"clear_previous_run\", \"No\", [\"No\",\"Yes\"])\n",
    "if (getArgument(\"clear_previous_run\") == \"Yes\"):\n",
    "    clear_previous_run()\n",
    "    print(\"Cleared all previous data.\")\n",
    "\n",
    "dbutils.widgets.dropdown(\"stop_streams\", \"No\", [\"No\",\"Yes\"])\n",
    "if (getArgument(\"stop_streams\") == \"Yes\"):\n",
    "    stop_all_streams()\n",
    "    print(\"Stopped all active streams.\")\n",
    "\n",
    "from delta import *\n",
    "dbutils.widgets.dropdown(\"optimize_tables\", \"No\", [\"No\",\"Yes\"])\n",
    "if (getArgument(\"optimize_tables\") == \"Yes\"):\n",
    "    # Suck up those small files that we have been appending.\n",
    "    DeltaTable.forPath(spark, BRONZE_DELTA).optimize().executeCompaction()\n",
    "    # Suck up those small files that we have been appending.\n",
    "    DeltaTable.forPath(spark, SILVER_DELTA).optimize().executeCompaction()\n",
    "    # Suck up those small files that we have been appending.\n",
    "    DeltaTable.forPath(spark, GOLD_DELTA).optimize().executeCompaction()\n",
    "    print(\"Optimized all of the Delta Tables\")"
   ]
  },
  {
   "cell_type": "markdown",
   "metadata": {
    "application/vnd.databricks.v1+cell": {
     "cellMetadata": {
      "byteLimit": 2048000,
      "rowLimit": 10000
     },
     "inputWidgets": {},
     "nuid": "e8ce7c13-7f8f-4e11-b50c-fdaebbcf3f99",
     "showTitle": false,
     "title": ""
    }
   },
   "source": [
    "## 1.0 Import your libraries here...\n",
    "- Are your shuffle partitions consistent with your cluster and your workload?\n",
    "- Do you have the necessary libraries to perform the required operations in the pipeline/application?"
   ]
  },
  {
   "cell_type": "code",
   "execution_count": 0,
   "metadata": {
    "application/vnd.databricks.v1+cell": {
     "cellMetadata": {
      "byteLimit": 2048000,
      "rowLimit": 10000
     },
     "inputWidgets": {},
     "nuid": "67bafbb7-d34e-4e86-b159-b2e062faa1d0",
     "showTitle": false,
     "title": ""
    }
   },
   "outputs": [],
   "source": [
    "# ENTER YOUR CODE HERE\n",
    "from pyspark.sql.functions import input_file_name\n",
    "from pyspark.sql.functions import current_timestamp\n",
    "from pyspark.sql.functions import isnan\n",
    "from pyspark.sql.functions import isnull\n",
    "\n",
    "from pyspark.sql.functions import when\n",
    "from pyspark.sql.functions import count\n",
    "from pyspark.sql.functions import desc\n",
    "from pyspark.sql.functions import col\n",
    "\n",
    "from pyspark.sql.functions import to_date\n",
    "from pyspark.sql.functions import to_timestamp\n",
    "from pyspark.sql.functions import explode\n",
    "from pyspark.sql.functions import split\n",
    "\n",
    "from pyspark.sql.functions import length\n",
    "import pyspark.sql.functions as F\n",
    "from pyspark.sql.functions import regexp_replace\n",
    "from pyspark.sql.functions import expr\n",
    "from pyspark.sql.types import StructType\n",
    "from pyspark.sql.types import StructField\n",
    "from pyspark.sql.types import StringType\n",
    "\n",
    "from pyspark.sql.types import IntegerType\n",
    "from pyspark.sql.types import TimestampType\n",
    "from pyspark.sql.types import LongType\n",
    "import matplotlib.pyplot as plt\n",
    "\n",
    "import mlflow\n",
    "from mlflow.pyfunc import spark_udf\n",
    "from sklearn.metrics import precision_score\n",
    "from sklearn.metrics import recall_score\n",
    "from sklearn.metrics import f1_score\n",
    "from sklearn.metrics import confusion_matrix\n",
    "from sklearn.metrics import ConfusionMatrixDisplay\n",
    "from pyspark.sql.functions import countDistinct\n",
    "\n",
    "from pyspark.sql.window import Window\n",
    "from pyspark.sql.functions import sum as spark_sum\n",
    "\n",
    "start_time = time.time()\n"
   ]
  },
  {
   "cell_type": "markdown",
   "metadata": {
    "application/vnd.databricks.v1+cell": {
     "cellMetadata": {
      "byteLimit": 2048000,
      "rowLimit": 10000
     },
     "inputWidgets": {},
     "nuid": "2b7624b4-0aa5-46b7-9767-52f462b2c574",
     "showTitle": false,
     "title": ""
    }
   },
   "source": [
    "## 2.0 Use the utility functions to ...\n",
    "- Read the source file directory listing\n",
    "- Count the source files (how many are there?)\n",
    "- print the contents of one of the files"
   ]
  },
  {
   "cell_type": "code",
   "execution_count": 0,
   "metadata": {
    "application/vnd.databricks.v1+cell": {
     "cellMetadata": {
      "byteLimit": 2048000,
      "rowLimit": 10000
     },
     "inputWidgets": {},
     "nuid": "a59749d5-e45d-460f-9be1-33652cda2ea5",
     "showTitle": false,
     "title": ""
    }
   },
   "outputs": [],
   "source": [
    "# ENTER YOUR CODE HERE\n",
    "\n",
    "# 1. Read the Source File Directory Listing\n",
    "df = get_source_listing_df()\n",
    "print(df)\n",
    "\n",
    "# 2. Count the Source Files\n",
    "file_count = len(df) - 1   # Subtract one to exclude the header row\n",
    "print(f\"Number of source files: {file_count}\")\n",
    "\n",
    "# 3. Print the Contents of One of the Files\n",
    "if file_count > 0:\n",
    "    filename = df.iloc[1]['File Name']  # Use the second row which should be the first actual data file if there's a header\n",
    "    print(f\"\\nContents of {filename}:\")\n",
    "    file_contents = show_s3_file_contents(filename)\n",
    "    print(file_contents.decode('utf-8'))  # Assuming the file content is in bytes\n",
    "else:\n",
    "    print(\"No files found in the source directory or only header is present.\")"
   ]
  },
  {
   "cell_type": "markdown",
   "metadata": {
    "application/vnd.databricks.v1+cell": {
     "cellMetadata": {
      "byteLimit": 2048000,
      "rowLimit": 10000
     },
     "inputWidgets": {},
     "nuid": "1676aed7-527f-4ea7-9d3b-52544e8c1e37",
     "showTitle": false,
     "title": ""
    }
   },
   "source": [
    "## 3.0 Transform the Raw Data to Bronze Data using a stream\n",
    "- define the schema for the raw data\n",
    "- setup a read stream using cloudfiles and the source data format\n",
    "- setup a write stream using cloudfiles to append to the bronze delta table\n",
    "- enforce schema\n",
    "- allow a new schema to be merged into the bronze delta table\n",
    "- Use the defined BRONZE_CHECKPOINT and BRONZE_DELTA paths defines in the includes\n",
    "- name your raw to bronze stream as bronze_stream\n",
    "- transform the raw data to the bronze data using the data definition at the top of the notebook"
   ]
  },
  {
   "cell_type": "code",
   "execution_count": 0,
   "metadata": {
    "application/vnd.databricks.v1+cell": {
     "cellMetadata": {
      "byteLimit": 2048000,
      "rowLimit": 10000
     },
     "inputWidgets": {},
     "nuid": "c7ff2fb9-5286-4c22-add8-f636537c8e33",
     "showTitle": false,
     "title": ""
    }
   },
   "outputs": [],
   "source": [
    "# JUNK\n",
    "manual_read_file = spark.read.json(TWEET_SOURCE_PATH + \"1.json\")\n",
    "read_data_schema =  manual_read_file.schema\n",
    "print(read_data_schema)"
   ]
  },
  {
   "cell_type": "code",
   "execution_count": 0,
   "metadata": {
    "application/vnd.databricks.v1+cell": {
     "cellMetadata": {
      "byteLimit": 2048000,
      "rowLimit": 10000
     },
     "inputWidgets": {},
     "nuid": "c4e37574-9885-4908-bf97-609d140a8818",
     "showTitle": false,
     "title": ""
    }
   },
   "outputs": [],
   "source": [
    "#ENTER YOUR CODE HERE\n",
    "\n",
    "#1 define the schema for raw data\n",
    "rawDataSchema = StructType([\n",
    "    StructField('date', StringType(), True),\n",
    "    StructField('sentiment', StringType(), True),\n",
    "    StructField('text', StringType(), True),\n",
    "    StructField('user', StringType(), True),\n",
    "])\n",
    "\n",
    "bronzeSchema = StructType([\n",
    "    StructField(\"date\", StringType(), True),\n",
    "    StructField(\"sentiment\", StringType(), True),\n",
    "    StructField(\"text\", StringType(), True),\n",
    "    StructField(\"user\", StringType(), True),\n",
    "    StructField(\"source_file\", StringType(), True),\n",
    "    StructField(\"processing_time_stamp\", StringType(), True)\n",
    "])\n",
    "\n",
    "# dbutils.fs.rm(USER_DIR, True)\n",
    "dbutils.fs.rm(USER_DIR + \"/bronze.delta\", True)\n",
    "dbutils.fs.rm(USER_DIR + \"/bronze.checkpoint\", True)\n"
   ]
  },
  {
   "cell_type": "code",
   "execution_count": 0,
   "metadata": {
    "application/vnd.databricks.v1+cell": {
     "cellMetadata": {
      "byteLimit": 2048000,
      "implicitDf": true,
      "rowLimit": 10000
     },
     "inputWidgets": {},
     "nuid": "0ed0716b-a81b-4569-a605-d8c5484696fa",
     "showTitle": false,
     "title": ""
    }
   },
   "outputs": [],
   "source": [
    "%sql\n",
    "DROP TABLE IF EXISTS bronze;\n",
    "-- CREATE TABLE bronze (\n",
    "-- date STRING,\n",
    "-- sentiment STRING,\n",
    "-- text STRING,\n",
    "-- user STRING,\n",
    "-- source_file_name STRING,\n",
    "-- processing_time_stamp TIMESTAMP\n",
    "-- )\n",
    "-- USING delta\n",
    "-- LOCATION '/tmp/labuser104917-3021490/bronze.delta'"
   ]
  },
  {
   "cell_type": "code",
   "execution_count": 0,
   "metadata": {
    "application/vnd.databricks.v1+cell": {
     "cellMetadata": {
      "byteLimit": 2048000,
      "rowLimit": 10000
     },
     "inputWidgets": {},
     "nuid": "1a64302b-219d-4665-9e44-093bb8664936",
     "showTitle": false,
     "title": ""
    }
   },
   "outputs": [],
   "source": [
    "#2 setup a read stream using cloudfiles\n",
    "def streaming_bronze():\n",
    "    print(\"Streaming read start\")\n",
    "    return (\n",
    "        spark.readStream.format(\"cloudFiles\")\n",
    "        .option(\"cloudFiles.format\", \"json\")\n",
    "        .option(\"maxFilesPerTrigger\", 1)\n",
    "        .schema(rawDataSchema) #4 enforce schema\n",
    "        .load(TWEET_SOURCE_PATH)\n",
    "        .selectExpr(\"*\",\"_metadata.file_name as source_file_name\",\"_metadata.file_modification_time as processing_time_stamp\")\n",
    "    )"
   ]
  },
  {
   "cell_type": "code",
   "execution_count": 0,
   "metadata": {
    "application/vnd.databricks.v1+cell": {
     "cellMetadata": {
      "byteLimit": 2048000,
      "rowLimit": 10000
     },
     "inputWidgets": {},
     "nuid": "9a96e897-00e9-42c7-afbc-5d7cf74daf5f",
     "showTitle": false,
     "title": ""
    }
   },
   "outputs": [],
   "source": [
    "#3 setup a write stream using cloudfiles\n",
    "def write_stream_to_delta_table(my_stream):\n",
    "    print(\"Streaming write start\")\n",
    "    return (\n",
    "        my_stream.writeStream\n",
    "        .queryName(\"bronze_stream\") #7 name your raw to bronze stream as bronze_stream\n",
    "        .format(\"delta\")\n",
    "        .option(\"checkpointLocation\", BRONZE_CHECKPOINT) #6 Use the defined BRONZE_DELTA \n",
    "        .option(\"mergeSchema\", \"true\")#5 Merging Schemas\n",
    "        .outputMode(\"append\") \n",
    "        .start(BRONZE_DELTA) #6 Use the defined BRONZE_DELTA \n",
    "    )"
   ]
  },
  {
   "cell_type": "code",
   "execution_count": 0,
   "metadata": {
    "application/vnd.databricks.v1+cell": {
     "cellMetadata": {
      "byteLimit": 2048000,
      "rowLimit": 10000
     },
     "inputWidgets": {},
     "nuid": "bf0418f7-aafe-475f-a39c-cc962f37098e",
     "showTitle": false,
     "title": ""
    }
   },
   "outputs": [],
   "source": [
    "#7 transform the raw data to the bronze data\n",
    "my_stream = streaming_bronze()\n",
    "activity_query = write_stream_to_delta_table(my_stream)\n",
    "# activity_query.awaitTermination(80)\n",
    "activity_query.awaitTermination()\n",
    "activity_query.stop()"
   ]
  },
  {
   "cell_type": "code",
   "execution_count": 0,
   "metadata": {
    "application/vnd.databricks.v1+cell": {
     "cellMetadata": {
      "byteLimit": 2048000,
      "rowLimit": 10000
     },
     "inputWidgets": {},
     "nuid": "01e056a2-342a-4f11-ba91-a0ae0d5b7ad3",
     "showTitle": false,
     "title": ""
    }
   },
   "outputs": [],
   "source": [
    "#Show 10 records\n",
    "read_from_delta_df = spark.read.load(BRONZE_DELTA)\n",
    "print(read_from_delta_df.show(10))"
   ]
  },
  {
   "cell_type": "code",
   "execution_count": 0,
   "metadata": {
    "application/vnd.databricks.v1+cell": {
     "cellMetadata": {
      "byteLimit": 2048000,
      "implicitDf": true,
      "rowLimit": 10000
     },
     "inputWidgets": {},
     "nuid": "73881c30-356e-45fd-b5eb-87602258b21f",
     "showTitle": false,
     "title": ""
    }
   },
   "outputs": [],
   "source": [
    "%sql\n",
    "SET spark.sql.legacy.timeParserPolicy = LEGACY;"
   ]
  },
  {
   "cell_type": "markdown",
   "metadata": {
    "application/vnd.databricks.v1+cell": {
     "cellMetadata": {
      "byteLimit": 2048000,
      "rowLimit": 10000
     },
     "inputWidgets": {},
     "nuid": "9bc3e824-d218-43e5-a43b-4c6dbe31950d",
     "showTitle": false,
     "title": ""
    }
   },
   "source": [
    "## 4.0 Bronze Data Exploratory Data Analysis\n",
    "- How many tweets are captured in your Bronze Table?\n",
    "- Are there any columns that contain Nan or Null values?  If so how many and what will you do in your silver transforms to address this?\n",
    "- Count the number of tweets by each unique user handle and sort the data by descending count.\n",
    "- How many tweets have at least one mention (@) how many tweet have no mentions (@)\n",
    "- Plot a bar chart that shows the top 20 tweeters (users)\n"
   ]
  },
  {
   "cell_type": "code",
   "execution_count": 0,
   "metadata": {
    "application/vnd.databricks.v1+cell": {
     "cellMetadata": {
      "byteLimit": 2048000,
      "rowLimit": 10000
     },
     "inputWidgets": {},
     "nuid": "091ec59c-d968-4acf-b56f-cc9178cd0693",
     "showTitle": false,
     "title": ""
    }
   },
   "outputs": [],
   "source": [
    "# ENTER YOUR CODE HERE\n",
    "#1 How many tweets are captured\n",
    "total_tweets_in_table = read_from_delta_df.count()\n",
    "print(\"Total Number of rows = \" , total_tweets_in_table)\n"
   ]
  },
  {
   "cell_type": "code",
   "execution_count": 0,
   "metadata": {
    "application/vnd.databricks.v1+cell": {
     "cellMetadata": {
      "byteLimit": 2048000,
      "rowLimit": 10000
     },
     "inputWidgets": {},
     "nuid": "7e306877-0cd5-4dbb-b1ee-08fe6d75ba44",
     "showTitle": false,
     "title": ""
    }
   },
   "outputs": [],
   "source": [
    "#2 Are there any columns that contain Nan or Null values\n",
    "dict_null = {col:read_from_delta_df.filter(read_from_delta_df[col].isNull()).count() for col in read_from_delta_df.columns}\n",
    "print(\"Count of columns having nan/null column-wise\")\n",
    "print(dict_null)\n",
    "\n",
    "#what will you do in your silver transforms to address this\n",
    "print(\"In case of null values, an optimal choise would be to either discard the row, or assign a mean (in case of int values) or assign a default(in case of string values)\")\n",
    "print(\"Currently in this bronze data table, there are no null/NAN\")\n"
   ]
  },
  {
   "cell_type": "code",
   "execution_count": 0,
   "metadata": {
    "application/vnd.databricks.v1+cell": {
     "cellMetadata": {
      "byteLimit": 2048000,
      "rowLimit": 10000
     },
     "inputWidgets": {},
     "nuid": "aade6675-7f5e-4e73-ade8-de4a792b7e79",
     "showTitle": false,
     "title": ""
    }
   },
   "outputs": [],
   "source": [
    "#3 Count the number of tweets by each unique user handle and sort the data by descending count.\n",
    "\n",
    "streaming_data_count_read = spark.read.format(\"delta\").load(BRONZE_DELTA)\n",
    "count_query_df = streaming_data_count_read.groupBy(\"user\").count().orderBy(\"count\", ascending=False)\n",
    "print(count_query_df.show(10))"
   ]
  },
  {
   "cell_type": "code",
   "execution_count": 0,
   "metadata": {
    "application/vnd.databricks.v1+cell": {
     "cellMetadata": {
      "byteLimit": 2048000,
      "rowLimit": 10000
     },
     "inputWidgets": {},
     "nuid": "77a68fd5-e654-4ca2-bcee-7419b382dfa7",
     "showTitle": false,
     "title": ""
    }
   },
   "outputs": [],
   "source": [
    "#4 How many tweets have at least one/zero mention (@)\n",
    "\n",
    "streaming_data_mention_read = spark.read.format(\"delta\").load(BRONZE_DELTA)\n",
    "mention_count = streaming_data_mention_read.filter(col(\"text\").like(\"%@%\")).count()\n",
    "zero_mention_tweets = total_tweets_in_table - mention_count\n",
    "print(\"Number of tweets with at least 1 mention: \", mention_count)\n",
    "\n",
    "print(\"Number of tweets with 0 mentions: \", zero_mention_tweets)"
   ]
  },
  {
   "cell_type": "code",
   "execution_count": 0,
   "metadata": {
    "application/vnd.databricks.v1+cell": {
     "cellMetadata": {
      "byteLimit": 2048000,
      "rowLimit": 10000
     },
     "inputWidgets": {},
     "nuid": "41624298-b0c3-476f-b087-b62440c4596c",
     "showTitle": false,
     "title": ""
    }
   },
   "outputs": [],
   "source": [
    "#5 Plot a bar chart that shows the top 20 tweeters (users)\n",
    "top_users_list = count_query_df.limit(20).toPandas()\n",
    "\n",
    "plt.figure(figsize=(30, 10))\n",
    "plt.bar(top_users_list['user'], top_users_list['count'])\n",
    "plt.xlabel('List of Users')\n",
    "plt.ylabel('Number of Tweets per User')\n",
    "plt.title('Top 20 Tweeters')\n",
    "plt.show()"
   ]
  },
  {
   "cell_type": "markdown",
   "metadata": {
    "application/vnd.databricks.v1+cell": {
     "cellMetadata": {
      "byteLimit": 2048000,
      "rowLimit": 10000
     },
     "inputWidgets": {},
     "nuid": "38c290b9-a42a-4551-857b-3f461b8a1be6",
     "showTitle": false,
     "title": ""
    }
   },
   "source": [
    "## 5.0 Transform the Bronze Data to Silver Data using a stream\n",
    "- setup a read stream on your bronze delta table\n",
    "- setup a write stream to append to the silver delta table\n",
    "- Use the defined SILVER_CHECKPOINT and SILVER_DELTA paths in the includes\n",
    "- name your bronze to silver stream as silver_stream\n",
    "- transform the bronze data to the silver data using the data definition at the top of the notebook"
   ]
  },
  {
   "cell_type": "code",
   "execution_count": 0,
   "metadata": {
    "application/vnd.databricks.v1+cell": {
     "cellMetadata": {
      "byteLimit": 2048000,
      "rowLimit": 10000
     },
     "inputWidgets": {},
     "nuid": "b25a6d01-d29b-45f3-9d9d-8e3c2ee02c78",
     "showTitle": false,
     "title": ""
    }
   },
   "outputs": [],
   "source": [
    "dbutils.fs.rm(USER_DIR + \"/silver.delta\", True)\n",
    "dbutils.fs.rm(USER_DIR + \"/silver.checkpoint\", True)"
   ]
  },
  {
   "cell_type": "code",
   "execution_count": 0,
   "metadata": {
    "application/vnd.databricks.v1+cell": {
     "cellMetadata": {
      "byteLimit": 2048000,
      "implicitDf": true,
      "rowLimit": 10000
     },
     "inputWidgets": {},
     "nuid": "ae9efc48-544f-4198-a70b-a63b66007396",
     "showTitle": false,
     "title": ""
    }
   },
   "outputs": [],
   "source": [
    "%sql\n",
    "DROP TABLE IF EXISTS silver;\n",
    "-- CREATE OR REPLACE TABLE silver (\n",
    "-- date STRING,\n",
    "-- sentiment STRING,\n",
    "-- text STRING,\n",
    "-- user STRING,\n",
    "-- source_file_name STRING,\n",
    "-- processing_time_stamp TIMESTAMP,\n",
    "-- conv_date TIMESTAMP\n",
    "-- )\n",
    "-- USING delta\n",
    "-- LOCATION '/tmp/labuser104917-3021490/silver.delta'"
   ]
  },
  {
   "cell_type": "code",
   "execution_count": 0,
   "metadata": {
    "application/vnd.databricks.v1+cell": {
     "cellMetadata": {
      "byteLimit": 2048000,
      "rowLimit": 10000
     },
     "inputWidgets": {},
     "nuid": "190ff247-997d-4f20-a622-783d4b11b1de",
     "showTitle": false,
     "title": ""
    }
   },
   "outputs": [],
   "source": [
    "#1 setup a read stream on your bronze delta table\n",
    "def read_from_bronze():\n",
    "    print(\"read from bronze\")\n",
    "    return (\n",
    "        spark.readStream\n",
    "        .format(\"delta\")\n",
    "        .load(BRONZE_DELTA)\n",
    "    )"
   ]
  },
  {
   "cell_type": "code",
   "execution_count": 0,
   "metadata": {
    "application/vnd.databricks.v1+cell": {
     "cellMetadata": {
      "byteLimit": 2048000,
      "rowLimit": 10000
     },
     "inputWidgets": {},
     "nuid": "dc73bd17-639f-4337-81db-ce5833e62aac",
     "showTitle": false,
     "title": ""
    }
   },
   "outputs": [],
   "source": [
    "#2 setup a write stream to append to the silver delta table\n",
    "def write_silver_stream(my_stream):\n",
    "    print(\"write to Silver\")\n",
    "    return (\n",
    "            my_stream.writeStream.format(\"delta\")\n",
    "                    .queryName(\"silver_stream\") #4 Name your bronze to silver stream as silver_stream\n",
    "                    .option(\"checkpointLocation\", SILVER_CHECKPOINT) #3 Use the defined SILVER_CHECKPOINT and SILVER_DELTA\n",
    "                    .outputMode(\"append\")\n",
    "                    .start(SILVER_DELTA)\n",
    "             )"
   ]
  },
  {
   "cell_type": "code",
   "execution_count": 0,
   "metadata": {
    "application/vnd.databricks.v1+cell": {
     "cellMetadata": {
      "byteLimit": 2048000,
      "rowLimit": 10000
     },
     "inputWidgets": {},
     "nuid": "65b029cb-ba45-4625-a9c1-d0d410a4962b",
     "showTitle": false,
     "title": ""
    }
   },
   "outputs": [],
   "source": [
    "# ENTER YOUR CODE HERE\n",
    "#5 Transform the bronze data to the silver data \n",
    "streaming_data_read_bronze = read_from_bronze()\n",
    "\n",
    "streaming_data_read_bronze = streaming_data_read_bronze.withColumn(\"conv_date\", to_date(streaming_data_read_bronze[\"date\"], \"EEE MMM dd HH:mm:ss zzz yyyy\"))\n",
    "\n",
    "streaming_data_read_bronze = streaming_data_read_bronze.withColumn(\"mentions\", explode(split(col(\"text\"), \" \"))).filter(col(\"mentions\").startswith(\"@\")).filter(col(\"mentions\") != \"@\")\n",
    "\n",
    "streaming_data_read_bronze = streaming_data_read_bronze.withColumn(\"cleaned_text\", regexp_replace(col(\"text\"), \"@[a-zA-Z0-9_]+\", \"\"))\n",
    "\n",
    "selected_cols = [\"conv_date\", \"mentions\", \"cleaned_text\", \"sentiment\"]\n",
    "streaming_data_read_bronze = streaming_data_read_bronze.select(selected_cols)\n",
    "\n",
    "activity_query_silver = write_silver_stream(streaming_data_read_bronze)\n",
    "\n",
    "# activity_query_silver.awaitTermination(80)\n",
    "activity_query_silver.awaitTermination()\n",
    "activity_query_silver.stop()"
   ]
  },
  {
   "cell_type": "code",
   "execution_count": 0,
   "metadata": {
    "application/vnd.databricks.v1+cell": {
     "cellMetadata": {
      "byteLimit": 2048000,
      "rowLimit": 10000
     },
     "inputWidgets": {},
     "nuid": "ade2c317-f5fe-419a-8d16-5537fa3f5d06",
     "showTitle": false,
     "title": ""
    }
   },
   "outputs": [],
   "source": [
    "#Show 10 records\n",
    "read_from_silver_df = spark.read.load(SILVER_DELTA)\n",
    "print(read_from_silver_df.show(10))"
   ]
  },
  {
   "cell_type": "markdown",
   "metadata": {
    "application/vnd.databricks.v1+cell": {
     "cellMetadata": {
      "byteLimit": 2048000,
      "rowLimit": 10000
     },
     "inputWidgets": {},
     "nuid": "9ee38aba-e340-4766-8339-71ef2ecfde3a",
     "showTitle": false,
     "title": ""
    }
   },
   "source": [
    "## 6.0 Transform the Silver Data to Gold Data using a stream\n",
    "- setup a read stream on your silver delta table\n",
    "- setup a write stream to append to the gold delta table\n",
    "- Use the defined GOLD_CHECKPOINT and GOLD_DELTA paths defines in the includes\n",
    "- name your silver to gold stream as gold_stream\n",
    "- transform the silver data to the gold data using the data definition at the top of the notebook\n",
    "- Load the pretrained transformer sentiment classifier from the MODEL_NAME at the production level from the MLflow registry\n",
    "- Use a spark UDF to parallelize the inference across your silver data"
   ]
  },
  {
   "cell_type": "code",
   "execution_count": 0,
   "metadata": {
    "application/vnd.databricks.v1+cell": {
     "cellMetadata": {
      "byteLimit": 2048000,
      "rowLimit": 10000
     },
     "inputWidgets": {},
     "nuid": "8c4ddd8a-f153-445a-9e09-4fdb39fb625a",
     "showTitle": false,
     "title": ""
    }
   },
   "outputs": [],
   "source": [
    "dbutils.fs.rm(USER_DIR + \"/gold.delta\", True)\n",
    "dbutils.fs.rm(USER_DIR + \"/gold.checkpoint\", True)"
   ]
  },
  {
   "cell_type": "code",
   "execution_count": 0,
   "metadata": {
    "application/vnd.databricks.v1+cell": {
     "cellMetadata": {
      "byteLimit": 2048000,
      "rowLimit": 10000
     },
     "inputWidgets": {},
     "nuid": "31e8949d-c016-44a7-9f03-65f471dfd22d",
     "showTitle": false,
     "title": ""
    }
   },
   "outputs": [],
   "source": [
    "# ENTER YOUR CODE HERE\n",
    "#1 setup a read stream on your silver delta table\n",
    "def read_from_silver():\n",
    "    print(\"read from silver\")\n",
    "    return (\n",
    "        spark.readStream\n",
    "        .format(\"delta\")\n",
    "        .load(SILVER_DELTA)\n",
    ")\n",
    "\n",
    "#2 setup a write stream to append to the gold delta table\n",
    "def write_to_gold(my_stream):\n",
    "    print(\"write to Gold\")\n",
    "    return (\n",
    "            my_stream.writeStream.format(\"delta\")\n",
    "                    .queryName(\"gold_stream\") #4 Name your silver to gold stream as gold_stream\n",
    "                    .option(\"checkpointLocation\", GOLD_CHECKPOINT) #3 Use the defined GOLD_CHECKPOINT and GOLD_DELTA paths\n",
    "                    .outputMode(\"append\")\n",
    "                    .start(GOLD_DELTA)\n",
    ")\n",
    "\n",
    "#6 Load the pretrained transformer sentiment classifier from the MODEL_NAME    \n",
    "sentiment_function = spark_udf(spark, \"models:/\" + MODEL_NAME + \"/production\")\n",
    "\n",
    "#5 Transform the silver data to the gold data\n",
    "streaming_data_read_silver = read_from_silver()\n",
    "\n",
    "streaming_data_read_silver = streaming_data_read_silver.withColumn(\"predicted\", sentiment_function(\"cleaned_text\"))\n",
    "\n",
    "streaming_data_read_silver = streaming_data_read_silver.select(\"conv_date\", \"mentions\", \"cleaned_text\", \"sentiment\", col(\"predicted.score\").alias(\"predicted_score\"), col(\"predicted.label\").alias(\"predicted_sentiment\"))\n",
    "\n",
    "streaming_data_read_silver = streaming_data_read_silver.withColumn(\"sentiment_id\", when(col(\"sentiment\") == \"positive\", 1).otherwise(-1))\n",
    "\n",
    "streaming_data_read_silver = streaming_data_read_silver.withColumn(\"predicted_sentiment_id\", when(col(\"predicted_sentiment\") == \"POS\", 1).otherwise(-1))\n",
    "\n",
    "activity_query_gold = write_to_gold(streaming_data_read_silver)\n",
    "\n",
    "# activity_query_gold.awaitTermination(160)\n",
    "activity_query_gold.awaitTermination()\n",
    "activity_query_gold.stop()\n",
    "\n",
    "    "
   ]
  },
  {
   "cell_type": "code",
   "execution_count": 0,
   "metadata": {
    "application/vnd.databricks.v1+cell": {
     "cellMetadata": {
      "byteLimit": 2048000,
      "rowLimit": 10000
     },
     "inputWidgets": {},
     "nuid": "fc51f8c3-27f3-4f34-b7d4-313130d279a5",
     "showTitle": false,
     "title": ""
    }
   },
   "outputs": [],
   "source": [
    "#Show 10 records\n",
    "read_from_gold_df = spark.read.load(GOLD_DELTA)\n",
    "print(read_from_gold_df.show(10))"
   ]
  },
  {
   "cell_type": "markdown",
   "metadata": {
    "application/vnd.databricks.v1+cell": {
     "cellMetadata": {
      "byteLimit": 2048000,
      "rowLimit": 10000
     },
     "inputWidgets": {},
     "nuid": "0494d8b4-5a55-47fc-af12-47325f34a303",
     "showTitle": false,
     "title": ""
    }
   },
   "source": [
    "## 7.0 Capture the accuracy metrics from the gold table in MLflow\n",
    "Store the following in an MLflow experiment run:\n",
    "- Store the precision, recall, and F1-score as MLflow metrics\n",
    "- Store an image of the confusion matrix as an MLflow artifact\n",
    "- Store the mdoel name and the MLflow version that was used as an MLflow parameters\n",
    "- Store the version of the Delta Table (input-silver) as an MLflow parameter"
   ]
  },
  {
   "cell_type": "code",
   "execution_count": 0,
   "metadata": {
    "application/vnd.databricks.v1+cell": {
     "cellMetadata": {
      "byteLimit": 2048000,
      "rowLimit": 10000
     },
     "inputWidgets": {},
     "nuid": "3bb174ad-67e4-4b0a-be36-ff20a760ee8b",
     "showTitle": false,
     "title": ""
    }
   },
   "outputs": [],
   "source": [
    "# ENTER YOUR CODE HERE\n",
    "#1 Store the precision, recall, and F1-score\n",
    "predicted_data = read_from_gold_df.withColumn(\"predicted_sentiment_id\", when(col(\"predicted_sentiment_id\") == 0, -1).otherwise(col(\"predicted_sentiment_id\")))\n",
    "predicted_labels = predicted_data.select(\"predicted_sentiment_id\").collect()\n",
    "\n",
    "my_predictions = read_from_gold_df.select(\"predicted_sentiment_id\").collect()\n",
    "actual_values = read_from_gold_df.select(\"sentiment_id\").collect()\n",
    "\n",
    "model_recall = recall_score(actual_values, my_predictions)\n",
    "model_f1 = f1_score(actual_values, my_predictions)\n",
    "model_precision = precision_score(actual_values, my_predictions)\n",
    "\n",
    "print(\"model_recall =\", model_recall)\n",
    "print(\"model_f1 =\", model_f1)\n",
    "print(\"model_precesion =\", model_precision)\n",
    "\n",
    "#2 Store an image of the confusion matrix\n",
    "cm = confusion_matrix(actual_values, my_predictions)\n",
    "my_confusion_matrix = ConfusionMatrixDisplay(confusion_matrix=cm, display_labels=[\"Negative\", \"Positive\"])\n",
    "my_confusion_matrix.plot()\n",
    "dbutils.fs.mkdirs(\"dbfs:/CONF_MATRIX\")\n",
    "my_confusion_matrix.figure_.savefig(\"/dbfs/CONF_MATRIX/MATRIX_IMG.PNG\")\n",
    "\n",
    "#4 Store the version of the Delta Table (input-silver) \n",
    "silver_table_version = DeltaTable.forPath(spark, SILVER_DELTA).history().toPandas()[\"version\"].iloc[-1]\n",
    "\n",
    "with mlflow.start_run():\n",
    "    mlflow.log_metric(\"model_recall\", model_recall)\n",
    "    mlflow.log_metric(\"model_f1\", model_f1)\n",
    "    mlflow.log_metric(\"model_precision\", model_precision)\n",
    "    mlflow.log_param(\"MODEL_NAME\", MODEL_NAME) #3 Store the mdoel name and the MLflow version\n",
    "    mlflow.log_param(\"mlflow_version\", mlflow.version.VERSION)\n",
    "    mlflow.log_param(\"silver_table_version\", silver_table_version)"
   ]
  },
  {
   "cell_type": "markdown",
   "metadata": {
    "application/vnd.databricks.v1+cell": {
     "cellMetadata": {
      "byteLimit": 2048000,
      "rowLimit": 10000
     },
     "inputWidgets": {},
     "nuid": "81e0e2de-b872-4698-81cc-1669646c2183",
     "showTitle": false,
     "title": ""
    }
   },
   "source": [
    "## 8.0 Application Data Processing and Visualization\n",
    "- How many mentions are there in the gold data total?\n",
    "- Count the number of neutral, positive and negative tweets for each mention in new columns\n",
    "- Capture the total for each mention in a new column\n",
    "- Sort the mention count totals in descending order\n",
    "- Plot a bar chart of the top 20 mentions with positive sentiment (the people who are in favor)\n",
    "- Plot a bar chart of the top 20 mentions with negative sentiment (the people who are the vilians)\n",
    "\n",
    "You may want to use the \"Loop Application\" widget to control whether you repeateded display the latest plots while the data comes in from your streams before moving on to the next section and cleaning up your run.\n",
    "\n",
    "*note: A mention is a specific twitter user that has been \"mentioned\" in a tweet with an @user reference."
   ]
  },
  {
   "cell_type": "code",
   "execution_count": 0,
   "metadata": {
    "application/vnd.databricks.v1+cell": {
     "cellMetadata": {
      "byteLimit": 2048000,
      "rowLimit": 10000
     },
     "inputWidgets": {},
     "nuid": "8250667b-eaa5-48a1-90c7-bfe11e666e32",
     "showTitle": false,
     "title": ""
    }
   },
   "outputs": [],
   "source": [
    "# ENTER YOUR CODE HERE\n",
    "#1 How many mentions are there in the gold data total?\n",
    "total_mentions = read_from_gold_df.select(countDistinct(\"mentions\")).collect()[0][0]\n",
    "print(\"Total Mentions:\", total_mentions)\n",
    "\n",
    "#2 Count the number of neutral, positive and negative tweets \n",
    "grouped_df = read_from_gold_df.groupBy(\"mentions\", \"sentiment\").count()\n",
    "pivot_df = grouped_df.groupBy(\"mentions\").pivot(\"sentiment\").sum(\"count\")\n",
    "mention_counts_df = pivot_df.na.fill(0)\n",
    "mention_counts_df.show()\n",
    "\n",
    "#3 Capture the total for each mention in a new column\n",
    "window_spec = Window.partitionBy(\"mentions\")\n",
    "mention_counts_df = mention_counts_df.withColumn(\"total\", spark_sum(mention_counts_df[\"positive\"] + mention_counts_df[\"negative\"]).over(window_spec))\n",
    "mention_counts_df.show()\n",
    "\n",
    "#4 Sort the mention count totals in descending order\n",
    "sorted_mention_counts_df = mention_counts_df.orderBy(mention_counts_df[\"total\"].desc())\n",
    "sorted_mention_counts_df.show()\n"
   ]
  },
  {
   "cell_type": "code",
   "execution_count": 0,
   "metadata": {
    "application/vnd.databricks.v1+cell": {
     "cellMetadata": {
      "byteLimit": 2048000,
      "rowLimit": 10000
     },
     "inputWidgets": {},
     "nuid": "379a208c-58a6-47ac-b41e-98d333ca539f",
     "showTitle": false,
     "title": ""
    }
   },
   "outputs": [],
   "source": [
    "#5 Plot a bar chart of the top 20 mentions with positive sentimen\n",
    "top_mentions_positive = sorted_mention_counts_df.filter(sorted_mention_counts_df[\"positive\"] > 0).limit(20)\n",
    "mentions = top_mentions_positive.select(\"mentions\").rdd.flatMap(lambda x: x).collect()\n",
    "positive_counts = top_mentions_positive.select(\"positive\").rdd.flatMap(lambda x: x).collect()\n",
    "plt.figure(figsize=(12, 6))\n",
    "plt.bar(mentions, positive_counts)\n",
    "plt.xlabel(\"Mention\")\n",
    "plt.ylabel(\"Positive Count\")\n",
    "plt.title(\"Top 20 Mentions with Positive Sentiment\")\n",
    "plt.xticks(rotation=90)\n",
    "plt.show()\n",
    "\n",
    "#6 Plot a bar chart of the top 20 mentions with negative sentiment\n",
    "top_mentions_negative = sorted_mention_counts_df.filter(sorted_mention_counts_df[\"negative\"] > 0).limit(20)\n",
    "mentions = top_mentions_negative.select(\"mentions\").rdd.flatMap(lambda x: x).collect()\n",
    "negative_counts = top_mentions_negative.select(\"negative\").rdd.flatMap(lambda x: x).collect()\n",
    "plt.figure(figsize=(12, 6))\n",
    "plt.bar(mentions, negative_counts)\n",
    "plt.xlabel(\"Mention\")\n",
    "plt.ylabel(\"Negative Count\")\n",
    "plt.title(\"Top 20 Mentions with Negative Sentiment\")\n",
    "plt.xticks(rotation=90)\n",
    "plt.show()"
   ]
  },
  {
   "cell_type": "markdown",
   "metadata": {
    "application/vnd.databricks.v1+cell": {
     "cellMetadata": {
      "byteLimit": 2048000,
      "rowLimit": 10000
     },
     "inputWidgets": {},
     "nuid": "5d5add3f-0c13-4d81-86d8-12cf3cfdd2c8",
     "showTitle": false,
     "title": ""
    }
   },
   "source": [
    "## 9.0 Clean up and completion of your pipeline\n",
    "- using the utilities what streams are running? If any.\n",
    "- Stop all active streams\n",
    "- print out the elapsed time of your notebook."
   ]
  },
  {
   "cell_type": "code",
   "execution_count": 0,
   "metadata": {
    "application/vnd.databricks.v1+cell": {
     "cellMetadata": {
      "byteLimit": 2048000,
      "rowLimit": 10000
     },
     "inputWidgets": {},
     "nuid": "0304e685-c26e-447d-b230-c37266f30003",
     "showTitle": false,
     "title": ""
    }
   },
   "outputs": [],
   "source": [
    "# ENTER YOUR CODE HERE\n",
    "\n",
    "#1 using the utilities what streams are running? \n",
    "active_streams = spark.streams.active\n",
    "for stream in active_streams:\n",
    "    print(stream.name)\n",
    "\n",
    "#2 Stop all active streams\n",
    "for stream in spark.streams.active:\n",
    "    print(f\"Stopping stream {stream.name} (was active)\")\n",
    "    stream.stop()\n",
    "\n",
    "elapsed_time = time.time() - start_time\n",
    "print(\"Elapsed time:\", elapsed_time)"
   ]
  },
  {
   "cell_type": "markdown",
   "metadata": {
    "application/vnd.databricks.v1+cell": {
     "cellMetadata": {
      "byteLimit": 2048000,
      "rowLimit": 10000
     },
     "inputWidgets": {},
     "nuid": "b88fc0e5-f50c-4ed1-9480-16a4c8a44b30",
     "showTitle": false,
     "title": ""
    }
   },
   "source": [
    "## 10.0 How Optimized is your Spark Application (Grad Students Only)\n",
    "Graduate students (registered for the DSCC-402 section of the course) are required to do this section.  This is a written analysis using the Spark UI (link to screen shots) that support your analysis of your pipelines execution and what is driving its performance.\n",
    "Recall that Spark Optimization has 5 significant dimensions of considertation:\n",
    "- Spill: write to executor disk due to lack of memory\n",
    "- Skew: imbalance in partition size\n",
    "- Shuffle: network io moving data between executors (wide transforms)\n",
    "- Storage: inefficiency due to disk storage format (small files, location)\n",
    "- Serialization: distribution of code segments across the cluster\n",
    "\n",
    "Comment on each of the dimentions of performance and how your impelementation is or is not being affected.  Use specific information in the Spark UI to support your description.  \n",
    "\n",
    "Note: you can take sreenshots of the Spark UI from your project runs in databricks and then link to those pictures by storing them as a publicly accessible file on your cloud drive (google, one drive, etc.)\n",
    "\n",
    "References:\n",
    "- [Spark UI Reference Reference](https://spark.apache.org/docs/latest/web-ui.html#web-ui)\n",
    "- [Spark UI Simulator](https://www.databricks.training/spark-ui-simulator/index.html)"
   ]
  },
  {
   "cell_type": "markdown",
   "metadata": {
    "application/vnd.databricks.v1+cell": {
     "cellMetadata": {
      "byteLimit": 2048000,
      "rowLimit": 10000
     },
     "inputWidgets": {},
     "nuid": "a0a5707d-a5ca-4e87-9e74-3b13d00337b0",
     "showTitle": false,
     "title": ""
    }
   },
   "source": [
    "### ENTER YOUR MARKDOWN HERE"
   ]
  }
 ],
 "metadata": {
  "application/vnd.databricks.v1+notebook": {
   "dashboards": [],
   "language": "python",
   "notebookMetadata": {
    "mostRecentlyExecutedCommandWithImplicitDF": {
     "commandId": 1181270846490516,
     "dataframes": [
      "_sqldf"
     ]
    },
    "pythonIndentUnit": 4,
    "widgetLayout": [
     {
      "breakBefore": false,
      "name": "clear_previous_run",
      "width": 203
     },
     {
      "breakBefore": false,
      "name": "stop_streams",
      "width": 203
     }
    ]
   },
   "notebookName": "Starter Streaming Tweet Sentiment - Spring 2024 Final Project",
   "widgets": {
    "clear_previous_run": {
     "currentValue": "Yes",
     "nuid": "11b43403-c70f-41ef-ab0e-41172583baaa",
     "typedWidgetInfo": null,
     "widgetInfo": {
      "widgetType": "dropdown",
      "defaultValue": "No",
      "label": null,
      "name": "clear_previous_run",
      "options": {
       "widgetType": "dropdown",
       "autoCreated": null,
       "choices": [
        "No",
        "Yes"
       ]
      }
     }
    },
    "optimize_tables": {
     "currentValue": "No",
     "nuid": "afdc5245-0c77-453d-b2bf-159b6ef5a90e",
     "typedWidgetInfo": null,
     "widgetInfo": {
      "widgetType": "dropdown",
      "defaultValue": "No",
      "label": null,
      "name": "optimize_tables",
      "options": {
       "widgetType": "dropdown",
       "autoCreated": null,
       "choices": [
        "No",
        "Yes"
       ]
      }
     }
    },
    "stop_streams": {
     "currentValue": "No",
     "nuid": "4d3450c8-2720-4aaa-9e35-ef22a56c3b33",
     "typedWidgetInfo": null,
     "widgetInfo": {
      "widgetType": "dropdown",
      "defaultValue": "No",
      "label": null,
      "name": "stop_streams",
      "options": {
       "widgetType": "dropdown",
       "autoCreated": null,
       "choices": [
        "No",
        "Yes"
       ]
      }
     }
    }
   }
  }
 },
 "nbformat": 4,
 "nbformat_minor": 0
}
